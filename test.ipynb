{
 "cells": [
  {
   "cell_type": "code",
   "execution_count": 4,
   "metadata": {},
   "outputs": [],
   "source": [
    "import torch\n",
    "import os\n",
    "import argparse\n",
    "\n",
    "import mixed_precision\n",
    "from stats import AverageMeterSet\n",
    "from datasets import Dataset, build_dataset, get_dataset, get_encoder_size\n",
    "from model import Model\n",
    "from checkpoint import Checkpointer\n",
    "from utils import test_model\n",
    "import matplotlib.pyplot as plt"
   ]
  },
  {
   "cell_type": "code",
   "execution_count": 12,
   "metadata": {},
   "outputs": [],
   "source": [
    "parser = argparse.ArgumentParser(description='Infomax Representations - Testing Script')\n",
    "# parameters for general training stuff\n",
    "parser.add_argument('checkpoint_path', type=str,\n",
    "                    help='path from which to load checkpoint')\n",
    "parser.add_argument('--dataset', type=str, default='STL10')\n",
    "parser.add_argument('--batch_size', type=int, default=200,\n",
    "                    help='input batch size (default: 200)')\n",
    "parser.add_argument('--seed', type=int, default=1,\n",
    "                    help='random seed (default: 1)')\n",
    "parser.add_argument('--amp', action='store_true', default=False,\n",
    "                    help='Enables automatic mixed precision')\n",
    "parser.add_argument('--input_dir', type=str, default='/mnt/imagenet',\n",
    "                    help=\"Input directory for the dataset. Not needed For C10,\"\n",
    "                    \" C100 or STL10 as the data will be automatically downloaded.\")\n",
    "parser.add_argument('--run_name', type=str, default='default_run',\n",
    "                    help='name to use for the tensorbaord summary for this run')\n",
    "args = parser.parse_args(args=[\"--amp\", \"--dataset\", \"C10\", \"/root/amdim-public/runs/amdim_cpt.pth\", ])\n"
   ]
  },
  {
   "cell_type": "code",
   "execution_count": 13,
   "metadata": {
    "scrolled": true
   },
   "outputs": [
    {
     "name": "stdout",
     "output_type": "stream",
     "text": [
      "Files already downloaded and verified\n",
      "Files already downloaded and verified\n"
     ]
    }
   ],
   "source": [
    "if args.amp:\n",
    "    mixed_precision.enable_mixed_precision()\n",
    "\n",
    "torch.manual_seed(args.seed)\n",
    "torch.cuda.manual_seed(args.seed)\n",
    "\n",
    "# get the dataset\n",
    "dataset = get_dataset(args.dataset)\n",
    "\n",
    "_, test_loader, _ = build_dataset(dataset=dataset,\n",
    "                        batch_size=args.batch_size,\n",
    "                        input_dir=args.input_dir)\n",
    "\n",
    "torch_device = torch.device('cuda')\n",
    "checkpointer = Checkpointer()"
   ]
  },
  {
   "cell_type": "code",
   "execution_count": 14,
   "metadata": {},
   "outputs": [
    {
     "name": "stdout",
     "output_type": "stream",
     "text": [
      "Using a 32x32 encoder\n",
      "***** CHECKPOINTING *****\n",
      "Model restored from checkpoint.\n",
      "Self-supervised training epoch 115\n",
      "Classifier training epoch 0\n",
      "*************************\n",
      "Selected optimization level O2:  FP16 training with FP32 batchnorm and FP32 master weights.\n",
      "\n",
      "Defaults for this optimization level are:\n",
      "enabled                : True\n",
      "opt_level              : O2\n",
      "cast_model_type        : torch.float16\n",
      "patch_torch_functions  : False\n",
      "keep_batchnorm_fp32    : True\n",
      "master_weights         : True\n",
      "loss_scale             : dynamic\n",
      "Processing user overrides (additional kwargs that are not None)...\n",
      "After processing overrides, optimization options are:\n",
      "enabled                : True\n",
      "opt_level              : O2\n",
      "cast_model_type        : torch.float16\n",
      "patch_torch_functions  : False\n",
      "keep_batchnorm_fp32    : True\n",
      "master_weights         : True\n",
      "loss_scale             : dynamic\n"
     ]
    }
   ],
   "source": [
    "model = checkpointer.restore_model_from_checkpoint(args.checkpoint_path)\n",
    "model = model.to(torch_device)\n",
    "model, _ = mixed_precision.initialize(model, None)\n",
    "\n",
    "test_stats = AverageMeterSet()"
   ]
  },
  {
   "cell_type": "code",
   "execution_count": 15,
   "metadata": {},
   "outputs": [],
   "source": [
    "def test(model, test_loader, device, stats):\n",
    "    test_model(model, test_loader, device, stats)"
   ]
  },
  {
   "cell_type": "code",
   "execution_count": 16,
   "metadata": {},
   "outputs": [
    {
     "name": "stdout",
     "output_type": "stream",
     "text": [
      "test_accuracy_mlp_classifier: 0.896, test_accuracy_linear_classifier: 0.867\n"
     ]
    }
   ],
   "source": [
    "test_stats = AverageMeterSet()\n",
    "test(model, test_loader, torch_device, test_stats)\n",
    "stat_str = test_stats.pretty_string(ignore=model.tasks)\n",
    "print(stat_str)"
   ]
  },
  {
   "cell_type": "markdown",
   "metadata": {},
   "source": [
    "# in test_model"
   ]
  },
  {
   "cell_type": "code",
   "execution_count": 18,
   "metadata": {},
   "outputs": [],
   "source": [
    "batches=50\n",
    "model.train()\n",
    "for i, (images, _) in enumerate(test_loader):\n",
    "    if i == batches:\n",
    "        break\n",
    "    images = images.to(torch_device)\n",
    "    _ = model(x1=images, x2=images, class_only=True)"
   ]
  },
  {
   "cell_type": "code",
   "execution_count": 29,
   "metadata": {},
   "outputs": [
    {
     "name": "stdout",
     "output_type": "stream",
     "text": [
      "torch.Size([200, 3, 32, 32])\n"
     ]
    }
   ],
   "source": [
    "model.eval()\n",
    "for i, (images, labels) in enumerate(test_loader):\n",
    "    print(images.shape)\n",
    "    images = images.to(torch_device)\n",
    "    labels = labels.cpu()\n",
    "    with torch.no_grad():\n",
    "        res_dict = model(x1=images, x2=images, class_only=True)\n",
    "        lgt_glb_mlp, lgt_glb_lin = res_dict['class']\n",
    "    if i == 0:\n",
    "        break"
   ]
  },
  {
   "cell_type": "code",
   "execution_count": 34,
   "metadata": {},
   "outputs": [
    {
     "data": {
      "text/plain": [
       "torch.Size([200, 1024, 1, 1])"
      ]
     },
     "execution_count": 34,
     "metadata": {},
     "output_type": "execute_result"
    }
   ],
   "source": [
    "model.encode(images, no_grad=True)[0].shape"
   ]
  }
 ],
 "metadata": {
  "kernelspec": {
   "display_name": "Python 3",
   "language": "python",
   "name": "python3"
  },
  "language_info": {
   "codemirror_mode": {
    "name": "ipython",
    "version": 3
   },
   "file_extension": ".py",
   "mimetype": "text/x-python",
   "name": "python",
   "nbconvert_exporter": "python",
   "pygments_lexer": "ipython3",
   "version": "3.7.4"
  }
 },
 "nbformat": 4,
 "nbformat_minor": 2
}
